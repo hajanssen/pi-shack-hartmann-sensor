{
 "cells": [
  {
   "cell_type": "code",
   "execution_count": null,
   "metadata": {},
   "outputs": [],
   "source": [
    "import SHSlib  as sh\n",
    "import matplotlib.pyplot as plt\n",
    "import matplotlib as mpl\n",
    "import numpy as np\n",
    "mpl.rcParams[\"image.interpolation\"] = 'nearest'\n",
    "\n",
    "P = sh.analyse.Processor(floorCap = 40,\n",
    "              minDist = 30,\n",
    "              NZernike = 9,\n",
    "              storeImages=True,\n",
    "              printZernikeEqasion = False,\n",
    "              normZernike=False,\n",
    "              scaleToUnitCircle = True,\n",
    "              showWarnings = False)\n",
    "\n",
    "P.loadFile(\"Sample#9_withLensInRay.hdf5\")"
   ]
  },
  {
   "cell_type": "code",
   "execution_count": null,
   "metadata": {},
   "outputs": [],
   "source": [
    "NimageIndex = np.arange(30,100,15)\n",
    "fig,axs = plt.subplots(len(NimageIndex),3,dpi=150)\n",
    "\n",
    "# contruction of Transormation matrix for integrtaion\n",
    "# by setting desiered Sample positon and gradient/measurmente data position\n",
    "# in this case sample positon is set to be also measurmente positon\n",
    "D = sh.analyse.getIntegration(P.refCentroids[0],\n",
    "    P.refCentroids[1],\n",
    "    P.refCentroids[0],\n",
    "    P.refCentroids[1],\n",
    "    NPartner=20)\n",
    "\n",
    "\n",
    "# loop over some measurmenst\n",
    "for i,imageIndex in enumerate(NimageIndex):\n",
    "    \n",
    "    # gradient data vector\n",
    "    G = np.concatenate([P._dxList[imageIndex],P._dyList[imageIndex]])\n",
    "    \n",
    "    #integration with tranformation and geradient data\n",
    "    Z  = np.linalg.lstsq(D,G,rcond=None)[0]\n",
    "    \n",
    "    # Map integratoin data in correct positon in image space\n",
    "    wavefront = np.zeros_like(P.refLabels, dtype=np.double())\n",
    "    for CIndex in range(len(P.refCentroids[1])):\n",
    "        wavefront[P.refLabels == CIndex + 1] = Z[CIndex]\n",
    "    \n",
    "    # Plot Data in Grid\n",
    "    c = axs[i,0].imshow(wavefront);plt.colorbar(c,ax=axs[i,0],shrink=1)\n",
    "    axs[i,0].set_yticklabels([])\n",
    "    axs[i,0].set_xticklabels([])\n",
    "    axs[i,0].set_ylabel(\"idex:\" + str(imageIndex))\n",
    "    \n",
    "    c = axs[i,1].imshow(P.Wavefront[imageIndex]); plt.colorbar(c,ax=axs[i,1],shrink=1)\n",
    "    axs[i,1].set_yticklabels([])\n",
    "    axs[i,1].set_xticklabels([])\n",
    "    \n",
    "    c = axs[i,2].imshow(P.Wavefront[imageIndex] - wavefront); plt.colorbar(c,ax=axs[i,2],shrink=1)\n",
    "    axs[i,2].set_yticklabels([])\n",
    "    axs[i,2].set_xticklabels([])\n",
    "\n",
    "axs[0,0].set_title(\"Smith integration\")\n",
    "axs[0,1].set_title(\"Zernike intergation\")\n",
    "axs[0,2].set_title(\"difference (zernike-smith)\")\n",
    "plt.tight_layout(pad=1)\n",
    "fig.savefig(\"comparison Smith to Zernike Integration.png\",dpi=300)"
   ]
  }
 ],
 "metadata": {
  "kernelspec": {
   "display_name": "base",
   "language": "python",
   "name": "python3"
  },
  "language_info": {
   "codemirror_mode": {
    "name": "ipython",
    "version": 3
   },
   "file_extension": ".py",
   "mimetype": "text/x-python",
   "name": "python",
   "nbconvert_exporter": "python",
   "pygments_lexer": "ipython3",
   "version": "3.8.13"
  },
  "orig_nbformat": 4,
  "vscode": {
   "interpreter": {
    "hash": "9cac56477898a36a64c298cfde0d2ab25b9950ccbdcbf9b69e97a0778afc7d8f"
   }
  }
 },
 "nbformat": 4,
 "nbformat_minor": 2
}
