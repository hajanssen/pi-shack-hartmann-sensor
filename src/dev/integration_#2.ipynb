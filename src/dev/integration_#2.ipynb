{
 "cells": [
  {
   "cell_type": "code",
   "execution_count": 1,
   "id": "56573251",
   "metadata": {},
   "outputs": [
    {
     "name": "stdout",
     "output_type": "stream",
     "text": [
      "dips shit \n"
     ]
    }
   ],
   "source": [
    "%load_ext autoreload\n",
    "%autoreload 2\n",
    "import sys\n",
    "import numpy as np\n",
    "sys.path.append(\"..\")\n",
    "import SHSlib  as sh\n",
    "import matplotlib.pyplot as plt\n",
    "#%matplotlib notebook\n",
    "\n",
    "x_pos = np.linspace(10,90,6)\n",
    "y_pos = np.linspace(10,90,6)\n",
    "\n",
    "X,Y = np.meshgrid(x_pos,y_pos)\n",
    "\n",
    "res = (480,640)\n",
    "im_range_x=(0,100)\n",
    "\n",
    "# Generate Image \n",
    "image = sh.simulation.shack(X, Y, res, \n",
    "            im_range_x, \n",
    "            im_range_x)\n",
    "\n",
    "image2 = sh.simulation.shack(X-3, Y+3, res, \n",
    "            im_range_x, \n",
    "            im_range_x)\n",
    "\n",
    "uint8 = lambda x : ((x/np.max(x) * 255)).astype(np.uint8)\n",
    "\n",
    "# cast to uint8\n",
    "img =  uint8(image)\n",
    "img2 =  uint8(image2)\n"
   ]
  },
  {
   "cell_type": "code",
   "execution_count": 3,
   "id": "3c3a50a4",
   "metadata": {},
   "outputs": [
    {
     "data": {
      "image/png": "[encoded data removed]",
      "text/plain": [
       "<Figure size 432x288 with 2 Axes>"
      ]
     },
     "metadata": {
      "needs_background": "light"
     },
     "output_type": "display_data"
    }
   ],
   "source": [
    "# calculate reference\n",
    "img_lables = sh.analyse.getSeperation(img)\n",
    "c = plt.imshow(img_lables); plt.colorbar(c)\n",
    "\n",
    "x_ref,y_ref = sh.analyse.getMomentum(img_lables, img) #,algorythm=\"CV\"\n",
    "\n",
    "plt.plot(x_ref,y_ref,\"ro\")\n",
    "plt.show()"
   ]
  },
  {
   "cell_type": "code",
   "execution_count": 5,
   "id": "6623dc86",
   "metadata": {},
   "outputs": [
    {
     "data": {
      "text/plain": [
       "array([         nan,  63.90144688, 166.13675072, 268.37889688,\n",
       "       370.62110312, 472.86324928, 575.09854497,  63.8983219 ,\n",
       "       166.14379031, 268.38011068, 370.61988932, 472.85620969,\n",
       "       575.1016781 ,  63.90089271, 166.14231405, 268.38011406,\n",
       "       370.61988594, 472.85768595, 575.09910729,  63.90089271,\n",
       "       166.14231405, 268.38011406, 370.61988594, 472.85768595,\n",
       "       575.09910729,  63.8983219 , 166.14379031, 268.38011068,\n",
       "       370.61988932, 472.85620969, 575.1016781 ,  63.90144688,\n",
       "       166.13675072, 268.37889688, 370.62110312, 472.86324928])"
      ]
     },
     "execution_count": 5,
     "metadata": {},
     "output_type": "execute_result"
    }
   ],
   "source": [
    "x_ref"
   ]
  },
  {
   "cell_type": "code",
   "execution_count": 3,
   "id": "514f0440",
   "metadata": {},
   "outputs": [],
   "source": [
    "from PIL import Image,ImageDraw,ImageFont"
   ]
  },
  {
   "cell_type": "code",
   "execution_count": 4,
   "id": "a910b5e7",
   "metadata": {},
   "outputs": [],
   "source": [
    "disp = sh.utils.LCD()\n",
    "disp.Init()\n"
   ]
  },
  {
   "cell_type": "code",
   "execution_count": 5,
   "id": "5bd92dcb",
   "metadata": {},
   "outputs": [],
   "source": [
    "\n",
    "for i in range(10):\n",
    "    \n",
    "    \n",
    "    image1 = Image.new(\"RGB\", (disp.width, disp.height ), \"BLACK\")\n",
    "    draw = ImageDraw.Draw(image1)\n",
    "\n",
    "#     draw.rectangle((5,10,6,11), fill = \"BLACK\")\n",
    "#     draw.rectangle((5,25,7,27), fill = \"BLACK\")\n",
    "#     draw.rectangle((5,40,8,43), fill = \"BLACK\")\n",
    "#     draw.rectangle((5,55,9,59), fill = \"BLACK\")\n",
    "\n",
    "\n",
    "    #draw.line([(20, 10),(70, 60)], fill = \"RED\",width = 5)\n",
    "    #draw.line([(70, 10),(20, 60)], fill = \"RED\",width = 5)\n",
    "    draw.line([(170,15+i),(170,55+i)], fill = \"RED\",width = 5)\n",
    "    draw.line([(150,35+i),(190,35+i)], fill = \"RED\",width = 5)\n",
    "\n",
    "    disp.ShowImage(image1)\n",
    "\n"
   ]
  },
  {
   "cell_type": "code",
   "execution_count": 6,
   "id": "fa9b6a83",
   "metadata": {},
   "outputs": [
    {
     "ename": "TypeError",
     "evalue": "data() missing 1 required positional argument: 'val'",
     "output_type": "error",
     "traceback": [
      "\u001b[0;31m---------------------------------------------------------------------------\u001b[0m",
      "\u001b[0;31mTypeError\u001b[0m                                 Traceback (most recent call last)",
      "\u001b[0;32m/tmp/ipykernel_844/3274312788.py\u001b[0m in \u001b[0;36m<module>\u001b[0;34m\u001b[0m\n\u001b[0;32m----> 1\u001b[0;31m \u001b[0mdisp\u001b[0m\u001b[0;34m.\u001b[0m\u001b[0mdata\u001b[0m\u001b[0;34m(\u001b[0m\u001b[0;34m)\u001b[0m\u001b[0;34m\u001b[0m\u001b[0;34m\u001b[0m\u001b[0m\n\u001b[0m",
      "\u001b[0;31mTypeError\u001b[0m: data() missing 1 required positional argument: 'val'"
     ]
    }
   ],
   "source": [
    "disp.data()"
   ]
  },
  {
   "cell_type": "code",
   "execution_count": null,
   "id": "e8da665f",
   "metadata": {},
   "outputs": [],
   "source": [
    "dir(disp)"
   ]
  },
  {
   "cell_type": "code",
   "execution_count": null,
   "id": "cffc8e0d",
   "metadata": {},
   "outputs": [],
   "source": []
  }
 ],
 "metadata": {
  "kernelspec": {
   "display_name": "Python 3 (ipykernel)",
   "language": "python",
   "name": "python3"
  },
  "language_info": {
   "codemirror_mode": {
    "name": "ipython",
    "version": 3
   },
   "file_extension": ".py",
   "mimetype": "text/x-python",
   "name": "python",
   "nbconvert_exporter": "python",
   "pygments_lexer": "ipython3",
   "version": "3.7.3"
  }
 },
 "nbformat": 4,
 "nbformat_minor": 5
}
