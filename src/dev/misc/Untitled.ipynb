{
 "cells": [
  {
   "cell_type": "code",
   "execution_count": 5,
   "id": "36dce40c",
   "metadata": {},
   "outputs": [],
   "source": []
  },
  {
   "cell_type": "code",
   "execution_count": 6,
   "id": "4197ee76",
   "metadata": {},
   "outputs": [
    {
     "ename": "TypeError",
     "evalue": "getMomentum() missing 2 required positional arguments: 'img' and 'img_ori'",
     "output_type": "error",
     "traceback": [
      "\u001b[1;31m---------------------------------------------------------------------------\u001b[0m",
      "\u001b[1;31mTypeError\u001b[0m                                 Traceback (most recent call last)",
      "\u001b[1;32m~\\AppData\\Local\\Temp/ipykernel_10672/4153240352.py\u001b[0m in \u001b[0;36m<module>\u001b[1;34m\u001b[0m\n\u001b[1;32m----> 1\u001b[1;33m \u001b[0mshs\u001b[0m\u001b[1;33m.\u001b[0m\u001b[0manalyse\u001b[0m\u001b[1;33m.\u001b[0m\u001b[0mgetMomentum\u001b[0m\u001b[1;33m(\u001b[0m\u001b[1;33m)\u001b[0m\u001b[1;33m\u001b[0m\u001b[1;33m\u001b[0m\u001b[0m\n\u001b[0m",
      "\u001b[1;31mTypeError\u001b[0m: getMomentum() missing 2 required positional arguments: 'img' and 'img_ori'"
     ]
    }
   ],
   "source": []
  },
  {
   "cell_type": "code",
   "execution_count": 1,
   "id": "a41b1fc6",
   "metadata": {},
   "outputs": [],
   "source": [
    "import cv2 as cv\n",
    "import skimage as sim"
   ]
  },
  {
   "cell_type": "code",
   "execution_count": 2,
   "id": "57107dda",
   "metadata": {},
   "outputs": [],
   "source": [
    "from scipy.ndimage import distance_transform_edt"
   ]
  },
  {
   "cell_type": "code",
   "execution_count": 3,
   "id": "420a7589",
   "metadata": {},
   "outputs": [
    {
     "name": "stdout",
     "output_type": "stream",
     "text": [
      "(0, 100) (0, 100)\n"
     ]
    },
    {
     "data": {
      "text/plain": [
       "<matplotlib.image.AxesImage at 0x204104254f0>"
      ]
     },
     "execution_count": 3,
     "metadata": {},
     "output_type": "execute_result"
    },
    {
     "data": {
      "image/png": "[encoded data removed]",
      "text/plain": [
       "<Figure size 432x288 with 1 Axes>"
      ]
     },
     "metadata": {
      "needs_background": "light"
     },
     "output_type": "display_data"
    }
   ],
   "source": [
    "#import cv2\n",
    "import matplotlib.pyplot as plt\n",
    "import numpy as np\n",
    "from simulation import Shak, getRange, gauss, gauss2D\n",
    "from analyses import getSeperation, getMomentum\n",
    "\n",
    "\n",
    "x_pos = np.linspace(10,90,3)\n",
    "y_pos = np.linspace(10,90,3)\n",
    "X,Y = np.meshgrid(x_pos,y_pos)\n",
    "\n",
    "# Generate Image \n",
    "res = (1000,1000)\n",
    "im_range_x=(0,100)\n",
    "\n",
    "img =   Shak(X, Y, res, \n",
    "            im_range_x, \n",
    "            im_range_x)\n",
    "\n",
    "img = (255*img/img.max()).astype(np.uint8)\n",
    "\n",
    "plt.imshow(img)"
   ]
  },
  {
   "cell_type": "code",
   "execution_count": 4,
   "id": "3c6f7e5d",
   "metadata": {},
   "outputs": [],
   "source": [
    "def getMomentum(img,img_masks):\n",
    "    \n",
    "    import multiprocessing.pool as pool\n",
    "    \n",
    "    \n",
    "    x = np.zeros(np.max(img_masks))\n",
    "    y = np.zeros(np.max(img_masks))\n",
    "    #disk = morphology.disk(10)\n",
    "    for i in range(0,np.max(img_masks)+2):\n",
    "        mask = img_masks == i\n",
    "        img_copy = img.copy().astype(np.uint8)\n",
    "        img_copy[mask] = 0 \n",
    "        M = cv.moments(img_copy)\n",
    "        #print(M)\n",
    "        x[i-2] = M[\"m01\"] / M[\"m00\"]\n",
    "        y[i-2] = M[\"m10\"] / M[\"m00\"]\n",
    "        \n",
    "        #x[i-2] = M[0, 1] / M[0, 0]\n",
    "        #y[i-2] = M[1, 0] / M[0, 0]\n",
    "        \n",
    "    return x, y"
   ]
  },
  {
   "cell_type": "code",
   "execution_count": 5,
   "id": "6a8bcf28",
   "metadata": {},
   "outputs": [
    {
     "ename": "NameError",
     "evalue": "name 'px' is not defined",
     "output_type": "error",
     "traceback": [
      "\u001b[1;31m---------------------------------------------------------------------------\u001b[0m",
      "\u001b[1;31mNameError\u001b[0m                                 Traceback (most recent call last)",
      "\u001b[1;32m~\\AppData\\Local\\Temp/ipykernel_2216/1472392980.py\u001b[0m in \u001b[0;36m<module>\u001b[1;34m\u001b[0m\n\u001b[1;32m----> 1\u001b[1;33m \u001b[0mlen\u001b[0m\u001b[1;33m(\u001b[0m\u001b[0mpx\u001b[0m\u001b[1;33m)\u001b[0m\u001b[1;33m\u001b[0m\u001b[1;33m\u001b[0m\u001b[0m\n\u001b[0m",
      "\u001b[1;31mNameError\u001b[0m: name 'px' is not defined"
     ]
    }
   ],
   "source": [
    "len(px)"
   ]
  },
  {
   "cell_type": "code",
   "execution_count": 7,
   "id": "2414482a",
   "metadata": {},
   "outputs": [
    {
     "data": {
      "text/plain": [
       "<matplotlib.image.AxesImage at 0x204124c0250>"
      ]
     },
     "execution_count": 7,
     "metadata": {},
     "output_type": "execute_result"
    },
    {
     "data": {
      "image/png": "[encoded data removed]",
      "text/plain": [
       "<Figure size 432x288 with 1 Axes>"
      ]
     },
     "metadata": {
      "needs_background": "light"
     },
     "output_type": "display_data"
    }
   ],
   "source": [
    "plt.imshow(np.uint8(imgLab==0))"
   ]
  },
  {
   "cell_type": "code",
   "execution_count": 6,
   "id": "f36b617b",
   "metadata": {},
   "outputs": [
    {
     "data": {
      "image/png": "[encoded data removed]",
      "text/plain": [
       "<Figure size 432x288 with 1 Axes>"
      ]
     },
     "metadata": {
      "needs_background": "light"
     },
     "output_type": "display_data"
    },
    {
     "name": "stdout",
     "output_type": "stream",
     "text": [
      "Wall time: 22 ms\n"
     ]
    },
    {
     "data": {
      "image/png": "[encoded data removed]",
      "text/plain": [
       "<Figure size 432x288 with 1 Axes>"
      ]
     },
     "metadata": {
      "needs_background": "light"
     },
     "output_type": "display_data"
    },
    {
     "data": {
      "text/plain": [
       "<matplotlib.image.AxesImage at 0x20412462700>"
      ]
     },
     "execution_count": 6,
     "metadata": {},
     "output_type": "execute_result"
    },
    {
     "data": {
      "image/png": "[encoded data removed]",
      "text/plain": [
       "<Figure size 432x288 with 1 Axes>"
      ]
     },
     "metadata": {
      "needs_background": "light"
     },
     "output_type": "display_data"
    }
   ],
   "source": [
    "imgLab = img >= 100\n",
    "\n",
    "d, n = cv.distanceTransformWithLabels(np.uint8(imgLab==0),cv.DIST_L1,3)\n",
    "plt.imshow(n)\n",
    "plt.show()\n",
    "%time px,py = getMomentum(img,n)\n",
    "\n",
    "#for x,y in zip(px,py):\n",
    "plt.plot(py,px,\".\")\n",
    "plt.show()\n",
    "plt.imshow(img)"
   ]
  },
  {
   "cell_type": "code",
   "execution_count": null,
   "id": "6a8a4000",
   "metadata": {},
   "outputs": [],
   "source": [
    "cv.moments(img*(n == 100))\n",
    "plt.imshow(img*(n == 9))"
   ]
  },
  {
   "cell_type": "code",
   "execution_count": null,
   "id": "5acc88d6",
   "metadata": {},
   "outputs": [],
   "source": [
    "imgLab = img >= 100\n",
    "\n",
    "# c = plt.imshow(imgLab)\n",
    "# plt.colorbar(c)\n",
    "%time d, n = distance_transform_edt(imgLab==0,return_indices=True)\n",
    "#%time distances = distance_transform_edt(imgLab==0)\n",
    "c = plt.imshow(d)\n",
    "plt.colorbar(c)\n",
    "plt.show()\n",
    "\n",
    "\n",
    "c = plt.imshow(n[0,:,:])\n",
    "plt.colorbar(c)\n",
    "plt.show()\n",
    "\n",
    "c = plt.imshow(n[1,:,:])\n",
    "plt.colorbar(c)\n",
    "plt.show()"
   ]
  },
  {
   "cell_type": "code",
   "execution_count": null,
   "id": "de4f3aa7",
   "metadata": {},
   "outputs": [],
   "source": [
    "imgLab"
   ]
  },
  {
   "cell_type": "code",
   "execution_count": null,
   "id": "ec9cb231",
   "metadata": {},
   "outputs": [],
   "source": [
    "n[0,:,:].ravel()"
   ]
  },
  {
   "cell_type": "code",
   "execution_count": null,
   "id": "0f511851",
   "metadata": {},
   "outputs": [],
   "source": [
    "plt.plot(nearest_label_coords[1,:])\n",
    "plt.plot(n[0,:,:].ravel())"
   ]
  },
  {
   "cell_type": "code",
   "execution_count": null,
   "id": "7b950423",
   "metadata": {},
   "outputs": [],
   "source": [
    "print(t)"
   ]
  },
  {
   "cell_type": "code",
   "execution_count": null,
   "id": "1d305574",
   "metadata": {},
   "outputs": [],
   "source": [
    "%time cv.distanceTransformWithLabels(np.uint8(imgLab==0),cv.DIST_L1,3)"
   ]
  },
  {
   "cell_type": "code",
   "execution_count": null,
   "id": "ad9beaee",
   "metadata": {
    "scrolled": false
   },
   "outputs": [],
   "source": [
    "#  DIST_L2\n",
    "%time distances, nearest_label_coords = cv.distanceTransformWithLabels(np.uint8(imgLab==0),cv.DIST_L1,3)\n",
    "c = plt.imshow(distances)\n",
    "plt.colorbar(c)\n",
    "plt.show()\n",
    "\n",
    "\n",
    "c = plt.imshow(nearest_label_coords)\n",
    "plt.colorbar(c)\n",
    "plt.show()\n",
    "#plt.plot(nearest_label_coords[1,:])\n",
    "#plt.show()"
   ]
  },
  {
   "cell_type": "code",
   "execution_count": null,
   "id": "86baea9b",
   "metadata": {},
   "outputs": [],
   "source": [
    "plt.imshow((nearest_label_coords == 88)* img)"
   ]
  },
  {
   "cell_type": "code",
   "execution_count": null,
   "id": "42fac2c8",
   "metadata": {},
   "outputs": [],
   "source": [
    "plt.imshow(img2)"
   ]
  },
  {
   "cell_type": "code",
   "execution_count": null,
   "id": "ef49fffb",
   "metadata": {},
   "outputs": [],
   "source": [
    "p = np.random.rand(5000,5000)\n",
    "img2 = img\n",
    "img2[nearest_label_coords != 88] = 0"
   ]
  },
  {
   "cell_type": "code",
   "execution_count": null,
   "id": "63fe94bc",
   "metadata": {},
   "outputs": [],
   "source": [
    "%time cv.moments(img2)"
   ]
  },
  {
   "cell_type": "code",
   "execution_count": null,
   "id": "c2ce37a4",
   "metadata": {},
   "outputs": [],
   "source": [
    "%time cv.moments(p)"
   ]
  },
  {
   "cell_type": "code",
   "execution_count": null,
   "id": "957234eb",
   "metadata": {},
   "outputs": [],
   "source": [
    "import multiprocessing as mp\n",
    "from multiprocessing import Process\n",
    "from multiprocessing import Pool"
   ]
  },
  {
   "cell_type": "code",
   "execution_count": null,
   "id": "b1de5842",
   "metadata": {},
   "outputs": [],
   "source": [
    "import time\n",
    "def f(i):\n",
    "    p = np.random.rand(1000,2000)\n",
    "    np.linalg.pinv(p)\n",
    "    return 0.1*i"
   ]
  },
  {
   "cell_type": "code",
   "execution_count": null,
   "id": "eb3da696",
   "metadata": {},
   "outputs": [],
   "source": [
    "p = pool.Pool(8)\n",
    "b = p.map_async(f,np.linspace(0,1,3))"
   ]
  },
  {
   "cell_type": "code",
   "execution_count": null,
   "id": "5cbe7be0",
   "metadata": {},
   "outputs": [],
   "source": [
    "for i in b.get():\n",
    "    print(i)"
   ]
  },
  {
   "cell_type": "code",
   "execution_count": null,
   "id": "979c88ad",
   "metadata": {},
   "outputs": [],
   "source": [
    "%time b = map(f,np.linspace(0,1,30))"
   ]
  },
  {
   "cell_type": "code",
   "execution_count": null,
   "id": "1267f27c",
   "metadata": {},
   "outputs": [],
   "source": [
    "def f(i):\n",
    "    return i**2\n",
    "\n",
    "p = Pool(5)\n",
    "p.map(f,[1,2,3])"
   ]
  },
  {
   "cell_type": "code",
   "execution_count": null,
   "id": "8f61531b",
   "metadata": {},
   "outputs": [],
   "source": []
  },
  {
   "cell_type": "code",
   "execution_count": null,
   "id": "410192c9",
   "metadata": {},
   "outputs": [],
   "source": []
  },
  {
   "cell_type": "code",
   "execution_count": null,
   "id": "6c171c07",
   "metadata": {},
   "outputs": [],
   "source": []
  },
  {
   "cell_type": "code",
   "execution_count": null,
   "id": "25d0b993",
   "metadata": {},
   "outputs": [],
   "source": []
  },
  {
   "cell_type": "code",
   "execution_count": null,
   "id": "68423225",
   "metadata": {},
   "outputs": [],
   "source": []
  },
  {
   "cell_type": "code",
   "execution_count": null,
   "id": "114b7566",
   "metadata": {},
   "outputs": [],
   "source": []
  },
  {
   "cell_type": "code",
   "execution_count": null,
   "id": "edf68e3e",
   "metadata": {},
   "outputs": [],
   "source": []
  }
 ],
 "metadata": {
  "@webio": {
   "lastCommId": null,
   "lastKernelId": null
  },
  "kernelspec": {
   "display_name": "Python 3 (ipykernel)",
   "language": "python",
   "name": "python3"
  },
  "language_info": {
   "codemirror_mode": {
    "name": "ipython",
    "version": 3
   },
   "file_extension": ".py",
   "mimetype": "text/x-python",
   "name": "python",
   "nbconvert_exporter": "python",
   "pygments_lexer": "ipython3",
   "version": "3.8.12"
  }
 },
 "nbformat": 4,
 "nbformat_minor": 5
}
