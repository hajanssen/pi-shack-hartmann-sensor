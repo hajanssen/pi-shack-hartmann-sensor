{
 "cells": [
  {
   "cell_type": "code",
   "execution_count": 2,
   "metadata": {},
   "outputs": [
    {
     "data": {
      "text/latex": [
       "$\\displaystyle p^{6} \\sum_{k=0}^{1.0} \\frac{\\left(-1\\right)^{k} p^{- 2 k} \\left(6 - k\\right)!}{k! \\left(1 - k\\right)! \\left(5 - k\\right)!}$"
      ],
      "text/plain": [
       "p**6*Sum((-1)**k*factorial(6 - k)/(p**(2*k)*factorial(k)*factorial(1 - k)*factorial(5 - k)), (k, 0, 1.0))"
      ]
     },
     "execution_count": 2,
     "metadata": {},
     "output_type": "execute_result"
    }
   ],
   "source": [
    "from sympy.abc import n, m, k, p \n",
    "from sympy import Sum, factorial, oo, IndexedBase, Function, Symbol, lambdify, Idx, symbols, Integer, sin, cos\n",
    "from sympy.utilities.lambdify import implemented_function\n",
    "import sympy as smp\n",
    "from sympy.utilities.lambdify import implemented_function\n",
    "\n",
    "\n",
    "\n",
    "def Zernike(nVal,mVal):\n",
    "    n = Symbol(\"n\",integer=True,positive=True,real=True)\n",
    "    m = Symbol(\"m\",integer=True,positive=True,real=True)\n",
    "    phi = Symbol(\"m\",positive=True,real=True)\n",
    "\n",
    "    n = int(nVal)\n",
    "    m = int(mVal)\n",
    "    # if m%2 != 0: # is odd\n",
    "    #     m = -m \n",
    "\n",
    "    fractionAbove = (((-1)**k) * (factorial(n-k)))\n",
    "    fractionBelow = factorial(k) * factorial((n+m)//int(2) - k) * factorial((n-m)//2 - k)\n",
    "    Radial = Sum( ((p**(n-2*k)) * fractionAbove) / fractionBelow  ,(k,0,(n-m)/2))\n",
    "    if not n-m % 2 != 0: # is odd\n",
    "        print(f\" ungerade n:{n}m:{m} /{n-m}\")\n",
    "        Radial = smp.sin(m*phi)\n",
    "\n",
    "        pass\n",
    "    else: \n",
    "\n",
    "        pass\n",
    "    \n",
    "    #NumpyZernike = lambdify([p,nVal,mVal],Radial,'numpy')\n",
    "\n",
    "    return Radial #* sympy.cos(m*phi)# NumpyZernike, SymPyZernike \n",
    "\n",
    "from IPython.display import display\n",
    "\n",
    "# for nVal in range(10):\n",
    "#     for mVal in range(10):\n",
    "   \n",
    "#         if nVal >= mVal:\n",
    "#             print(f\"n:{nVal}, m:{mVal}\")\n",
    "#             fun = Zernike(nVal=nVal,mVal=mVal)\n",
    "#             display(fun)\n",
    "\n",
    "#dfun = fun.doit().simplify()\n",
    "#dfun = fun.doit() #.simplify()\n",
    "\n",
    "fun = Zernike(nVal=6,mVal=4)\n",
    "fun.simplify()\n",
    "#fun.simplify().doit()\n",
    "\n"
   ]
  },
  {
   "cell_type": "code",
   "execution_count": 3,
   "metadata": {},
   "outputs": [
    {
     "ename": "ValueError",
     "evalue": "gamma function pole",
     "output_type": "error",
     "traceback": [
      "\u001b[1;31m---------------------------------------------------------------------------\u001b[0m",
      "\u001b[1;31mKeyError\u001b[0m                                  Traceback (most recent call last)",
      "File \u001b[1;32mc:\\Users\\Hauke\\anaconda3\\lib\\site-packages\\sympy\\core\\evalf.py:1494\u001b[0m, in \u001b[0;36mevalf\u001b[1;34m(x, prec, options)\u001b[0m\n\u001b[0;32m   1493\u001b[0m \u001b[39mtry\u001b[39;00m:\n\u001b[1;32m-> 1494\u001b[0m     rf \u001b[39m=\u001b[39m evalf_table[\u001b[39mtype\u001b[39;49m(x)]\n\u001b[0;32m   1495\u001b[0m     r \u001b[39m=\u001b[39m rf(x, prec, options)\n",
      "\u001b[1;31mKeyError\u001b[0m: factorial",
      "\nDuring handling of the above exception, another exception occurred:\n",
      "\u001b[1;31mValueError\u001b[0m                                Traceback (most recent call last)",
      "\u001b[1;32mg:\\My Drive\\Studium\\Master_sem3\\pi-shack-hartmann-sensor\\src\\dev\\ZernikeSympy.ipynb Cell 2\u001b[0m in \u001b[0;36m<cell line: 1>\u001b[1;34m()\u001b[0m\n\u001b[1;32m----> <a href='vscode-notebook-cell:/g%3A/My%20Drive/Studium/Master_sem3/pi-shack-hartmann-sensor/src/dev/ZernikeSympy.ipynb#W1sZmlsZQ%3D%3D?line=0'>1</a>\u001b[0m fun\u001b[39m.\u001b[39;49msimplify()\u001b[39m.\u001b[39;49mdoit()\n",
      "File \u001b[1;32mc:\\Users\\Hauke\\anaconda3\\lib\\site-packages\\sympy\\core\\operations.py:455\u001b[0m, in \u001b[0;36mAssocOp.doit\u001b[1;34m(self, **hints)\u001b[0m\n\u001b[0;32m    453\u001b[0m \u001b[39mdef\u001b[39;00m \u001b[39mdoit\u001b[39m(\u001b[39mself\u001b[39m, \u001b[39m*\u001b[39m\u001b[39m*\u001b[39mhints):\n\u001b[0;32m    454\u001b[0m     \u001b[39mif\u001b[39;00m hints\u001b[39m.\u001b[39mget(\u001b[39m'\u001b[39m\u001b[39mdeep\u001b[39m\u001b[39m'\u001b[39m, \u001b[39mTrue\u001b[39;00m):\n\u001b[1;32m--> 455\u001b[0m         terms \u001b[39m=\u001b[39m [term\u001b[39m.\u001b[39mdoit(\u001b[39m*\u001b[39m\u001b[39m*\u001b[39mhints) \u001b[39mfor\u001b[39;00m term \u001b[39min\u001b[39;00m \u001b[39mself\u001b[39m\u001b[39m.\u001b[39margs]\n\u001b[0;32m    456\u001b[0m     \u001b[39melse\u001b[39;00m:\n\u001b[0;32m    457\u001b[0m         terms \u001b[39m=\u001b[39m \u001b[39mself\u001b[39m\u001b[39m.\u001b[39margs\n",
      "File \u001b[1;32mc:\\Users\\Hauke\\anaconda3\\lib\\site-packages\\sympy\\core\\operations.py:455\u001b[0m, in \u001b[0;36m<listcomp>\u001b[1;34m(.0)\u001b[0m\n\u001b[0;32m    453\u001b[0m \u001b[39mdef\u001b[39;00m \u001b[39mdoit\u001b[39m(\u001b[39mself\u001b[39m, \u001b[39m*\u001b[39m\u001b[39m*\u001b[39mhints):\n\u001b[0;32m    454\u001b[0m     \u001b[39mif\u001b[39;00m hints\u001b[39m.\u001b[39mget(\u001b[39m'\u001b[39m\u001b[39mdeep\u001b[39m\u001b[39m'\u001b[39m, \u001b[39mTrue\u001b[39;00m):\n\u001b[1;32m--> 455\u001b[0m         terms \u001b[39m=\u001b[39m [term\u001b[39m.\u001b[39;49mdoit(\u001b[39m*\u001b[39;49m\u001b[39m*\u001b[39;49mhints) \u001b[39mfor\u001b[39;00m term \u001b[39min\u001b[39;00m \u001b[39mself\u001b[39m\u001b[39m.\u001b[39margs]\n\u001b[0;32m    456\u001b[0m     \u001b[39melse\u001b[39;00m:\n\u001b[0;32m    457\u001b[0m         terms \u001b[39m=\u001b[39m \u001b[39mself\u001b[39m\u001b[39m.\u001b[39margs\n",
      "File \u001b[1;32mc:\\Users\\Hauke\\anaconda3\\lib\\site-packages\\sympy\\concrete\\summations.py:234\u001b[0m, in \u001b[0;36mSum.doit\u001b[1;34m(self, **hints)\u001b[0m\n\u001b[0;32m    232\u001b[0m \u001b[39mif\u001b[39;00m reps:\n\u001b[0;32m    233\u001b[0m     undo \u001b[39m=\u001b[39m {v: k \u001b[39mfor\u001b[39;00m k, v \u001b[39min\u001b[39;00m reps\u001b[39m.\u001b[39mitems()}\n\u001b[1;32m--> 234\u001b[0m     did \u001b[39m=\u001b[39m \u001b[39mself\u001b[39;49m\u001b[39m.\u001b[39;49mxreplace(reps)\u001b[39m.\u001b[39;49mdoit(\u001b[39m*\u001b[39;49m\u001b[39m*\u001b[39;49mhints)\n\u001b[0;32m    235\u001b[0m     \u001b[39mif\u001b[39;00m \u001b[39misinstance\u001b[39m(did, \u001b[39mtuple\u001b[39m):  \u001b[39m# when separate=True\u001b[39;00m\n\u001b[0;32m    236\u001b[0m         did \u001b[39m=\u001b[39m \u001b[39mtuple\u001b[39m([i\u001b[39m.\u001b[39mxreplace(undo) \u001b[39mfor\u001b[39;00m i \u001b[39min\u001b[39;00m did])\n",
      "File \u001b[1;32mc:\\Users\\Hauke\\anaconda3\\lib\\site-packages\\sympy\\concrete\\summations.py:260\u001b[0m, in \u001b[0;36mSum.doit\u001b[1;34m(self, **hints)\u001b[0m\n\u001b[0;32m    257\u001b[0m     a, b \u001b[39m=\u001b[39m b \u001b[39m+\u001b[39m \u001b[39m1\u001b[39m, a \u001b[39m-\u001b[39m \u001b[39m1\u001b[39m\n\u001b[0;32m    258\u001b[0m     f \u001b[39m=\u001b[39m \u001b[39m-\u001b[39mf\n\u001b[1;32m--> 260\u001b[0m newf \u001b[39m=\u001b[39m eval_sum(f, (i, a, b))\n\u001b[0;32m    261\u001b[0m \u001b[39mif\u001b[39;00m newf \u001b[39mis\u001b[39;00m \u001b[39mNone\u001b[39;00m:\n\u001b[0;32m    262\u001b[0m     \u001b[39mif\u001b[39;00m f \u001b[39m==\u001b[39m \u001b[39mself\u001b[39m\u001b[39m.\u001b[39mfunction:\n",
      "File \u001b[1;32mc:\\Users\\Hauke\\anaconda3\\lib\\site-packages\\sympy\\concrete\\summations.py:1047\u001b[0m, in \u001b[0;36meval_sum\u001b[1;34m(f, limits)\u001b[0m\n\u001b[0;32m   1043\u001b[0m     \u001b[39mreturn\u001b[39;00m \u001b[39mNone\u001b[39;00m\n\u001b[0;32m   1044\u001b[0m \u001b[39m# Try to do it symbolically. Even when the number of terms is known,\u001b[39;00m\n\u001b[0;32m   1045\u001b[0m \u001b[39m# this can save time when b-a is big.\u001b[39;00m\n\u001b[0;32m   1046\u001b[0m \u001b[39m# We should try to transform to partial fractions\u001b[39;00m\n\u001b[1;32m-> 1047\u001b[0m value \u001b[39m=\u001b[39m eval_sum_symbolic(f\u001b[39m.\u001b[39;49mexpand(), (i, a, b))\n\u001b[0;32m   1048\u001b[0m \u001b[39mif\u001b[39;00m value \u001b[39mis\u001b[39;00m \u001b[39mnot\u001b[39;00m \u001b[39mNone\u001b[39;00m:\n\u001b[0;32m   1049\u001b[0m     \u001b[39mreturn\u001b[39;00m value\n",
      "File \u001b[1;32mc:\\Users\\Hauke\\anaconda3\\lib\\site-packages\\sympy\\concrete\\summations.py:1239\u001b[0m, in \u001b[0;36meval_sum_symbolic\u001b[1;34m(f, limits)\u001b[0m\n\u001b[0;32m   1236\u001b[0m     \u001b[39mif\u001b[39;00m r \u001b[39mnot\u001b[39;00m \u001b[39min\u001b[39;00m (\u001b[39mNone\u001b[39;00m, S\u001b[39m.\u001b[39mNaN):\n\u001b[0;32m   1237\u001b[0m         \u001b[39mreturn\u001b[39;00m r\n\u001b[1;32m-> 1239\u001b[0m h \u001b[39m=\u001b[39m eval_sum_hyper(f_orig, (i, a, b))\n\u001b[0;32m   1240\u001b[0m \u001b[39mif\u001b[39;00m h \u001b[39mis\u001b[39;00m \u001b[39mnot\u001b[39;00m \u001b[39mNone\u001b[39;00m:\n\u001b[0;32m   1241\u001b[0m     \u001b[39mreturn\u001b[39;00m h\n",
      "File \u001b[1;32mc:\\Users\\Hauke\\anaconda3\\lib\\site-packages\\sympy\\concrete\\summations.py:1316\u001b[0m, in \u001b[0;36meval_sum_hyper\u001b[1;34m(f, i_a_b)\u001b[0m\n\u001b[0;32m   1314\u001b[0m \u001b[39melse\u001b[39;00m:\n\u001b[0;32m   1315\u001b[0m     res1 \u001b[39m=\u001b[39m _eval_sum_hyper(f, i, a)\n\u001b[1;32m-> 1316\u001b[0m     res2 \u001b[39m=\u001b[39m _eval_sum_hyper(f, i, b \u001b[39m+\u001b[39;49m \u001b[39m1\u001b[39;49m)\n\u001b[0;32m   1317\u001b[0m     \u001b[39mif\u001b[39;00m res1 \u001b[39mis\u001b[39;00m \u001b[39mNone\u001b[39;00m \u001b[39mor\u001b[39;00m res2 \u001b[39mis\u001b[39;00m \u001b[39mNone\u001b[39;00m:\n\u001b[0;32m   1318\u001b[0m         \u001b[39mreturn\u001b[39;00m \u001b[39mNone\u001b[39;00m\n",
      "File \u001b[1;32mc:\\Users\\Hauke\\anaconda3\\lib\\site-packages\\sympy\\concrete\\summations.py:1255\u001b[0m, in \u001b[0;36m_eval_sum_hyper\u001b[1;34m(f, i, a)\u001b[0m\n\u001b[0;32m   1253\u001b[0m \u001b[39m\"\"\" Returns (res, cond). Sums from a to oo. \"\"\"\u001b[39;00m\n\u001b[0;32m   1254\u001b[0m \u001b[39mif\u001b[39;00m a \u001b[39m!=\u001b[39m \u001b[39m0\u001b[39m:\n\u001b[1;32m-> 1255\u001b[0m     \u001b[39mreturn\u001b[39;00m _eval_sum_hyper(f\u001b[39m.\u001b[39;49msubs(i, i \u001b[39m+\u001b[39;49m a), i, \u001b[39m0\u001b[39;49m)\n\u001b[0;32m   1257\u001b[0m \u001b[39mif\u001b[39;00m f\u001b[39m.\u001b[39msubs(i, \u001b[39m0\u001b[39m) \u001b[39m==\u001b[39m \u001b[39m0\u001b[39m:\n\u001b[0;32m   1258\u001b[0m     \u001b[39mif\u001b[39;00m simplify(f\u001b[39m.\u001b[39msubs(i, Dummy(\u001b[39m'\u001b[39m\u001b[39mi\u001b[39m\u001b[39m'\u001b[39m, integer\u001b[39m=\u001b[39m\u001b[39mTrue\u001b[39;00m, positive\u001b[39m=\u001b[39m\u001b[39mTrue\u001b[39;00m))) \u001b[39m==\u001b[39m \u001b[39m0\u001b[39m:\n",
      "File \u001b[1;32mc:\\Users\\Hauke\\anaconda3\\lib\\site-packages\\sympy\\concrete\\summations.py:1257\u001b[0m, in \u001b[0;36m_eval_sum_hyper\u001b[1;34m(f, i, a)\u001b[0m\n\u001b[0;32m   1254\u001b[0m \u001b[39mif\u001b[39;00m a \u001b[39m!=\u001b[39m \u001b[39m0\u001b[39m:\n\u001b[0;32m   1255\u001b[0m     \u001b[39mreturn\u001b[39;00m _eval_sum_hyper(f\u001b[39m.\u001b[39msubs(i, i \u001b[39m+\u001b[39m a), i, \u001b[39m0\u001b[39m)\n\u001b[1;32m-> 1257\u001b[0m \u001b[39mif\u001b[39;00m f\u001b[39m.\u001b[39;49msubs(i, \u001b[39m0\u001b[39;49m) \u001b[39m==\u001b[39m \u001b[39m0\u001b[39m:\n\u001b[0;32m   1258\u001b[0m     \u001b[39mif\u001b[39;00m simplify(f\u001b[39m.\u001b[39msubs(i, Dummy(\u001b[39m'\u001b[39m\u001b[39mi\u001b[39m\u001b[39m'\u001b[39m, integer\u001b[39m=\u001b[39m\u001b[39mTrue\u001b[39;00m, positive\u001b[39m=\u001b[39m\u001b[39mTrue\u001b[39;00m))) \u001b[39m==\u001b[39m \u001b[39m0\u001b[39m:\n\u001b[0;32m   1259\u001b[0m         \u001b[39mreturn\u001b[39;00m S\u001b[39m.\u001b[39mZero, \u001b[39mTrue\u001b[39;00m\n",
      "File \u001b[1;32mc:\\Users\\Hauke\\anaconda3\\lib\\site-packages\\sympy\\core\\basic.py:993\u001b[0m, in \u001b[0;36mBasic.subs\u001b[1;34m(self, *args, **kwargs)\u001b[0m\n\u001b[0;32m    991\u001b[0m rv \u001b[39m=\u001b[39m \u001b[39mself\u001b[39m\n\u001b[0;32m    992\u001b[0m \u001b[39mfor\u001b[39;00m old, new \u001b[39min\u001b[39;00m sequence:\n\u001b[1;32m--> 993\u001b[0m     rv \u001b[39m=\u001b[39m rv\u001b[39m.\u001b[39;49m_subs(old, new, \u001b[39m*\u001b[39;49m\u001b[39m*\u001b[39;49mkwargs)\n\u001b[0;32m    994\u001b[0m     \u001b[39mif\u001b[39;00m \u001b[39mnot\u001b[39;00m \u001b[39misinstance\u001b[39m(rv, Basic):\n\u001b[0;32m    995\u001b[0m         \u001b[39mbreak\u001b[39;00m\n",
      "File \u001b[1;32mc:\\Users\\Hauke\\anaconda3\\lib\\site-packages\\sympy\\core\\cache.py:70\u001b[0m, in \u001b[0;36m__cacheit.<locals>.func_wrapper.<locals>.wrapper\u001b[1;34m(*args, **kwargs)\u001b[0m\n\u001b[0;32m     67\u001b[0m \u001b[39m@wraps\u001b[39m(func)\n\u001b[0;32m     68\u001b[0m \u001b[39mdef\u001b[39;00m \u001b[39mwrapper\u001b[39m(\u001b[39m*\u001b[39margs, \u001b[39m*\u001b[39m\u001b[39m*\u001b[39mkwargs):\n\u001b[0;32m     69\u001b[0m     \u001b[39mtry\u001b[39;00m:\n\u001b[1;32m---> 70\u001b[0m         retval \u001b[39m=\u001b[39m cfunc(\u001b[39m*\u001b[39;49margs, \u001b[39m*\u001b[39;49m\u001b[39m*\u001b[39;49mkwargs)\n\u001b[0;32m     71\u001b[0m     \u001b[39mexcept\u001b[39;00m \u001b[39mTypeError\u001b[39;00m \u001b[39mas\u001b[39;00m e:\n\u001b[0;32m     72\u001b[0m         \u001b[39mif\u001b[39;00m \u001b[39mnot\u001b[39;00m e\u001b[39m.\u001b[39margs \u001b[39mor\u001b[39;00m \u001b[39mnot\u001b[39;00m e\u001b[39m.\u001b[39margs[\u001b[39m0\u001b[39m]\u001b[39m.\u001b[39mstartswith(\u001b[39m'\u001b[39m\u001b[39munhashable type:\u001b[39m\u001b[39m'\u001b[39m):\n",
      "File \u001b[1;32mc:\\Users\\Hauke\\anaconda3\\lib\\site-packages\\sympy\\core\\basic.py:1107\u001b[0m, in \u001b[0;36mBasic._subs\u001b[1;34m(self, old, new, **hints)\u001b[0m\n\u001b[0;32m   1105\u001b[0m rv \u001b[39m=\u001b[39m \u001b[39mself\u001b[39m\u001b[39m.\u001b[39m_eval_subs(old, new)\n\u001b[0;32m   1106\u001b[0m \u001b[39mif\u001b[39;00m rv \u001b[39mis\u001b[39;00m \u001b[39mNone\u001b[39;00m:\n\u001b[1;32m-> 1107\u001b[0m     rv \u001b[39m=\u001b[39m fallback(\u001b[39mself\u001b[39;49m, old, new)\n\u001b[0;32m   1108\u001b[0m \u001b[39mreturn\u001b[39;00m rv\n",
      "File \u001b[1;32mc:\\Users\\Hauke\\anaconda3\\lib\\site-packages\\sympy\\core\\basic.py:1079\u001b[0m, in \u001b[0;36mBasic._subs.<locals>.fallback\u001b[1;34m(self, old, new)\u001b[0m\n\u001b[0;32m   1077\u001b[0m \u001b[39mif\u001b[39;00m \u001b[39mnot\u001b[39;00m \u001b[39mhasattr\u001b[39m(arg, \u001b[39m'\u001b[39m\u001b[39m_eval_subs\u001b[39m\u001b[39m'\u001b[39m):\n\u001b[0;32m   1078\u001b[0m     \u001b[39mcontinue\u001b[39;00m\n\u001b[1;32m-> 1079\u001b[0m arg \u001b[39m=\u001b[39m arg\u001b[39m.\u001b[39;49m_subs(old, new, \u001b[39m*\u001b[39;49m\u001b[39m*\u001b[39;49mhints)\n\u001b[0;32m   1080\u001b[0m \u001b[39mif\u001b[39;00m \u001b[39mnot\u001b[39;00m _aresame(arg, args[i]):\n\u001b[0;32m   1081\u001b[0m     hit \u001b[39m=\u001b[39m \u001b[39mTrue\u001b[39;00m\n",
      "File \u001b[1;32mc:\\Users\\Hauke\\anaconda3\\lib\\site-packages\\sympy\\core\\cache.py:70\u001b[0m, in \u001b[0;36m__cacheit.<locals>.func_wrapper.<locals>.wrapper\u001b[1;34m(*args, **kwargs)\u001b[0m\n\u001b[0;32m     67\u001b[0m \u001b[39m@wraps\u001b[39m(func)\n\u001b[0;32m     68\u001b[0m \u001b[39mdef\u001b[39;00m \u001b[39mwrapper\u001b[39m(\u001b[39m*\u001b[39margs, \u001b[39m*\u001b[39m\u001b[39m*\u001b[39mkwargs):\n\u001b[0;32m     69\u001b[0m     \u001b[39mtry\u001b[39;00m:\n\u001b[1;32m---> 70\u001b[0m         retval \u001b[39m=\u001b[39m cfunc(\u001b[39m*\u001b[39;49margs, \u001b[39m*\u001b[39;49m\u001b[39m*\u001b[39;49mkwargs)\n\u001b[0;32m     71\u001b[0m     \u001b[39mexcept\u001b[39;00m \u001b[39mTypeError\u001b[39;00m \u001b[39mas\u001b[39;00m e:\n\u001b[0;32m     72\u001b[0m         \u001b[39mif\u001b[39;00m \u001b[39mnot\u001b[39;00m e\u001b[39m.\u001b[39margs \u001b[39mor\u001b[39;00m \u001b[39mnot\u001b[39;00m e\u001b[39m.\u001b[39margs[\u001b[39m0\u001b[39m]\u001b[39m.\u001b[39mstartswith(\u001b[39m'\u001b[39m\u001b[39munhashable type:\u001b[39m\u001b[39m'\u001b[39m):\n",
      "File \u001b[1;32mc:\\Users\\Hauke\\anaconda3\\lib\\site-packages\\sympy\\core\\basic.py:1107\u001b[0m, in \u001b[0;36mBasic._subs\u001b[1;34m(self, old, new, **hints)\u001b[0m\n\u001b[0;32m   1105\u001b[0m rv \u001b[39m=\u001b[39m \u001b[39mself\u001b[39m\u001b[39m.\u001b[39m_eval_subs(old, new)\n\u001b[0;32m   1106\u001b[0m \u001b[39mif\u001b[39;00m rv \u001b[39mis\u001b[39;00m \u001b[39mNone\u001b[39;00m:\n\u001b[1;32m-> 1107\u001b[0m     rv \u001b[39m=\u001b[39m fallback(\u001b[39mself\u001b[39;49m, old, new)\n\u001b[0;32m   1108\u001b[0m \u001b[39mreturn\u001b[39;00m rv\n",
      "File \u001b[1;32mc:\\Users\\Hauke\\anaconda3\\lib\\site-packages\\sympy\\core\\basic.py:1079\u001b[0m, in \u001b[0;36mBasic._subs.<locals>.fallback\u001b[1;34m(self, old, new)\u001b[0m\n\u001b[0;32m   1077\u001b[0m \u001b[39mif\u001b[39;00m \u001b[39mnot\u001b[39;00m \u001b[39mhasattr\u001b[39m(arg, \u001b[39m'\u001b[39m\u001b[39m_eval_subs\u001b[39m\u001b[39m'\u001b[39m):\n\u001b[0;32m   1078\u001b[0m     \u001b[39mcontinue\u001b[39;00m\n\u001b[1;32m-> 1079\u001b[0m arg \u001b[39m=\u001b[39m arg\u001b[39m.\u001b[39;49m_subs(old, new, \u001b[39m*\u001b[39;49m\u001b[39m*\u001b[39;49mhints)\n\u001b[0;32m   1080\u001b[0m \u001b[39mif\u001b[39;00m \u001b[39mnot\u001b[39;00m _aresame(arg, args[i]):\n\u001b[0;32m   1081\u001b[0m     hit \u001b[39m=\u001b[39m \u001b[39mTrue\u001b[39;00m\n",
      "File \u001b[1;32mc:\\Users\\Hauke\\anaconda3\\lib\\site-packages\\sympy\\core\\cache.py:70\u001b[0m, in \u001b[0;36m__cacheit.<locals>.func_wrapper.<locals>.wrapper\u001b[1;34m(*args, **kwargs)\u001b[0m\n\u001b[0;32m     67\u001b[0m \u001b[39m@wraps\u001b[39m(func)\n\u001b[0;32m     68\u001b[0m \u001b[39mdef\u001b[39;00m \u001b[39mwrapper\u001b[39m(\u001b[39m*\u001b[39margs, \u001b[39m*\u001b[39m\u001b[39m*\u001b[39mkwargs):\n\u001b[0;32m     69\u001b[0m     \u001b[39mtry\u001b[39;00m:\n\u001b[1;32m---> 70\u001b[0m         retval \u001b[39m=\u001b[39m cfunc(\u001b[39m*\u001b[39;49margs, \u001b[39m*\u001b[39;49m\u001b[39m*\u001b[39;49mkwargs)\n\u001b[0;32m     71\u001b[0m     \u001b[39mexcept\u001b[39;00m \u001b[39mTypeError\u001b[39;00m \u001b[39mas\u001b[39;00m e:\n\u001b[0;32m     72\u001b[0m         \u001b[39mif\u001b[39;00m \u001b[39mnot\u001b[39;00m e\u001b[39m.\u001b[39margs \u001b[39mor\u001b[39;00m \u001b[39mnot\u001b[39;00m e\u001b[39m.\u001b[39margs[\u001b[39m0\u001b[39m]\u001b[39m.\u001b[39mstartswith(\u001b[39m'\u001b[39m\u001b[39munhashable type:\u001b[39m\u001b[39m'\u001b[39m):\n",
      "File \u001b[1;32mc:\\Users\\Hauke\\anaconda3\\lib\\site-packages\\sympy\\core\\basic.py:1107\u001b[0m, in \u001b[0;36mBasic._subs\u001b[1;34m(self, old, new, **hints)\u001b[0m\n\u001b[0;32m   1105\u001b[0m rv \u001b[39m=\u001b[39m \u001b[39mself\u001b[39m\u001b[39m.\u001b[39m_eval_subs(old, new)\n\u001b[0;32m   1106\u001b[0m \u001b[39mif\u001b[39;00m rv \u001b[39mis\u001b[39;00m \u001b[39mNone\u001b[39;00m:\n\u001b[1;32m-> 1107\u001b[0m     rv \u001b[39m=\u001b[39m fallback(\u001b[39mself\u001b[39;49m, old, new)\n\u001b[0;32m   1108\u001b[0m \u001b[39mreturn\u001b[39;00m rv\n",
      "File \u001b[1;32mc:\\Users\\Hauke\\anaconda3\\lib\\site-packages\\sympy\\core\\basic.py:1084\u001b[0m, in \u001b[0;36mBasic._subs.<locals>.fallback\u001b[1;34m(self, old, new)\u001b[0m\n\u001b[0;32m   1082\u001b[0m         args[i] \u001b[39m=\u001b[39m arg\n\u001b[0;32m   1083\u001b[0m \u001b[39mif\u001b[39;00m hit:\n\u001b[1;32m-> 1084\u001b[0m     rv \u001b[39m=\u001b[39m \u001b[39mself\u001b[39;49m\u001b[39m.\u001b[39;49mfunc(\u001b[39m*\u001b[39;49margs)\n\u001b[0;32m   1085\u001b[0m     hack2 \u001b[39m=\u001b[39m hints\u001b[39m.\u001b[39mget(\u001b[39m'\u001b[39m\u001b[39mhack2\u001b[39m\u001b[39m'\u001b[39m, \u001b[39mFalse\u001b[39;00m)\n\u001b[0;32m   1086\u001b[0m     \u001b[39mif\u001b[39;00m hack2 \u001b[39mand\u001b[39;00m \u001b[39mself\u001b[39m\u001b[39m.\u001b[39mis_Mul \u001b[39mand\u001b[39;00m \u001b[39mnot\u001b[39;00m rv\u001b[39m.\u001b[39mis_Mul:  \u001b[39m# 2-arg hack\u001b[39;00m\n",
      "File \u001b[1;32mc:\\Users\\Hauke\\anaconda3\\lib\\site-packages\\sympy\\core\\cache.py:70\u001b[0m, in \u001b[0;36m__cacheit.<locals>.func_wrapper.<locals>.wrapper\u001b[1;34m(*args, **kwargs)\u001b[0m\n\u001b[0;32m     67\u001b[0m \u001b[39m@wraps\u001b[39m(func)\n\u001b[0;32m     68\u001b[0m \u001b[39mdef\u001b[39;00m \u001b[39mwrapper\u001b[39m(\u001b[39m*\u001b[39margs, \u001b[39m*\u001b[39m\u001b[39m*\u001b[39mkwargs):\n\u001b[0;32m     69\u001b[0m     \u001b[39mtry\u001b[39;00m:\n\u001b[1;32m---> 70\u001b[0m         retval \u001b[39m=\u001b[39m cfunc(\u001b[39m*\u001b[39;49margs, \u001b[39m*\u001b[39;49m\u001b[39m*\u001b[39;49mkwargs)\n\u001b[0;32m     71\u001b[0m     \u001b[39mexcept\u001b[39;00m \u001b[39mTypeError\u001b[39;00m \u001b[39mas\u001b[39;00m e:\n\u001b[0;32m     72\u001b[0m         \u001b[39mif\u001b[39;00m \u001b[39mnot\u001b[39;00m e\u001b[39m.\u001b[39margs \u001b[39mor\u001b[39;00m \u001b[39mnot\u001b[39;00m e\u001b[39m.\u001b[39margs[\u001b[39m0\u001b[39m]\u001b[39m.\u001b[39mstartswith(\u001b[39m'\u001b[39m\u001b[39munhashable type:\u001b[39m\u001b[39m'\u001b[39m):\n",
      "File \u001b[1;32mc:\\Users\\Hauke\\anaconda3\\lib\\site-packages\\sympy\\core\\function.py:481\u001b[0m, in \u001b[0;36mFunction.__new__\u001b[1;34m(cls, *args, **options)\u001b[0m\n\u001b[0;32m    479\u001b[0m     \u001b[39mif\u001b[39;00m pr2 \u001b[39m>\u001b[39m \u001b[39m0\u001b[39m:\n\u001b[0;32m    480\u001b[0m         pr \u001b[39m=\u001b[39m \u001b[39mmax\u001b[39m(\u001b[39mcls\u001b[39m\u001b[39m.\u001b[39m_should_evalf(a) \u001b[39mfor\u001b[39;00m a \u001b[39min\u001b[39;00m result\u001b[39m.\u001b[39margs)\n\u001b[1;32m--> 481\u001b[0m         result \u001b[39m=\u001b[39m result\u001b[39m.\u001b[39;49mevalf(prec_to_dps(pr))\n\u001b[0;32m    483\u001b[0m \u001b[39mreturn\u001b[39;00m result\n",
      "File \u001b[1;32mc:\\Users\\Hauke\\anaconda3\\lib\\site-packages\\sympy\\core\\evalf.py:1658\u001b[0m, in \u001b[0;36mEvalfMixin.evalf\u001b[1;34m(self, n, subs, maxn, chop, strict, quad, verbose)\u001b[0m\n\u001b[0;32m   1656\u001b[0m     options[\u001b[39m'\u001b[39m\u001b[39mquad\u001b[39m\u001b[39m'\u001b[39m] \u001b[39m=\u001b[39m quad\n\u001b[0;32m   1657\u001b[0m \u001b[39mtry\u001b[39;00m:\n\u001b[1;32m-> 1658\u001b[0m     result \u001b[39m=\u001b[39m evalf(\u001b[39mself\u001b[39;49m, prec \u001b[39m+\u001b[39;49m \u001b[39m4\u001b[39;49m, options)\n\u001b[0;32m   1659\u001b[0m \u001b[39mexcept\u001b[39;00m \u001b[39mNotImplementedError\u001b[39;00m:\n\u001b[0;32m   1660\u001b[0m     \u001b[39m# Fall back to the ordinary evalf\u001b[39;00m\n\u001b[0;32m   1661\u001b[0m     \u001b[39mif\u001b[39;00m \u001b[39mhasattr\u001b[39m(\u001b[39mself\u001b[39m, \u001b[39m'\u001b[39m\u001b[39msubs\u001b[39m\u001b[39m'\u001b[39m) \u001b[39mand\u001b[39;00m subs \u001b[39mis\u001b[39;00m \u001b[39mnot\u001b[39;00m \u001b[39mNone\u001b[39;00m:  \u001b[39m# issue 20291\u001b[39;00m\n",
      "File \u001b[1;32mc:\\Users\\Hauke\\anaconda3\\lib\\site-packages\\sympy\\core\\evalf.py:1500\u001b[0m, in \u001b[0;36mevalf\u001b[1;34m(x, prec, options)\u001b[0m\n\u001b[0;32m   1498\u001b[0m \u001b[39mif\u001b[39;00m \u001b[39m'\u001b[39m\u001b[39msubs\u001b[39m\u001b[39m'\u001b[39m \u001b[39min\u001b[39;00m options:\n\u001b[0;32m   1499\u001b[0m     x \u001b[39m=\u001b[39m x\u001b[39m.\u001b[39msubs(evalf_subs(prec, options[\u001b[39m'\u001b[39m\u001b[39msubs\u001b[39m\u001b[39m'\u001b[39m]))\n\u001b[1;32m-> 1500\u001b[0m xe \u001b[39m=\u001b[39m x\u001b[39m.\u001b[39;49m_eval_evalf(prec)\n\u001b[0;32m   1501\u001b[0m \u001b[39mif\u001b[39;00m xe \u001b[39mis\u001b[39;00m \u001b[39mNone\u001b[39;00m:\n\u001b[0;32m   1502\u001b[0m     \u001b[39mraise\u001b[39;00m \u001b[39mNotImplementedError\u001b[39;00m\n",
      "File \u001b[1;32mc:\\Users\\Hauke\\anaconda3\\lib\\site-packages\\sympy\\core\\function.py:601\u001b[0m, in \u001b[0;36mFunction._eval_evalf\u001b[1;34m(self, prec)\u001b[0m\n\u001b[0;32m    598\u001b[0m     \u001b[39mreturn\u001b[39;00m\n\u001b[0;32m    600\u001b[0m \u001b[39mwith\u001b[39;00m mpmath\u001b[39m.\u001b[39mworkprec(prec):\n\u001b[1;32m--> 601\u001b[0m     v \u001b[39m=\u001b[39m func(\u001b[39m*\u001b[39;49margs)\n\u001b[0;32m    603\u001b[0m \u001b[39mreturn\u001b[39;00m Expr\u001b[39m.\u001b[39m_from_mpmath(v, prec)\n",
      "File \u001b[1;32mc:\\Users\\Hauke\\anaconda3\\lib\\site-packages\\mpmath\\ctx_mp_python.py:998\u001b[0m, in \u001b[0;36mPythonMPContext._wrap_libmp_function.<locals>.f\u001b[1;34m(x, **kwargs)\u001b[0m\n\u001b[0;32m    996\u001b[0m \u001b[39mif\u001b[39;00m \u001b[39mhasattr\u001b[39m(x, \u001b[39m'\u001b[39m\u001b[39m_mpf_\u001b[39m\u001b[39m'\u001b[39m):\n\u001b[0;32m    997\u001b[0m     \u001b[39mtry\u001b[39;00m:\n\u001b[1;32m--> 998\u001b[0m         \u001b[39mreturn\u001b[39;00m ctx\u001b[39m.\u001b[39mmake_mpf(mpf_f(x\u001b[39m.\u001b[39;49m_mpf_, prec, rounding))\n\u001b[0;32m    999\u001b[0m     \u001b[39mexcept\u001b[39;00m ComplexResult:\n\u001b[0;32m   1000\u001b[0m         \u001b[39m# Handle propagation to complex\u001b[39;00m\n\u001b[0;32m   1001\u001b[0m         \u001b[39mif\u001b[39;00m ctx\u001b[39m.\u001b[39mtrap_complex:\n",
      "File \u001b[1;32mc:\\Users\\Hauke\\anaconda3\\lib\\site-packages\\mpmath\\libmp\\gammazeta.py:2135\u001b[0m, in \u001b[0;36mmpf_factorial\u001b[1;34m(x, prec, rnd)\u001b[0m\n\u001b[0;32m   2134\u001b[0m \u001b[39mdef\u001b[39;00m \u001b[39mmpf_factorial\u001b[39m(x, prec, rnd\u001b[39m=\u001b[39m\u001b[39m'\u001b[39m\u001b[39md\u001b[39m\u001b[39m'\u001b[39m):\n\u001b[1;32m-> 2135\u001b[0m     \u001b[39mreturn\u001b[39;00m mpf_gamma(x, prec, rnd, \u001b[39m1\u001b[39;49m)\n",
      "File \u001b[1;32mc:\\Users\\Hauke\\anaconda3\\lib\\site-packages\\mpmath\\libmp\\gammazeta.py:1732\u001b[0m, in \u001b[0;36mmpf_gamma\u001b[1;34m(x, prec, rnd, type)\u001b[0m\n\u001b[0;32m   1730\u001b[0m     \u001b[39mif\u001b[39;00m \u001b[39mtype\u001b[39m \u001b[39m==\u001b[39m \u001b[39m2\u001b[39m:\n\u001b[0;32m   1731\u001b[0m         \u001b[39mreturn\u001b[39;00m fzero\n\u001b[1;32m-> 1732\u001b[0m     \u001b[39mraise\u001b[39;00m \u001b[39mValueError\u001b[39;00m(\u001b[39m\"\u001b[39m\u001b[39mgamma function pole\u001b[39m\u001b[39m\"\u001b[39m)\n\u001b[0;32m   1733\u001b[0m \u001b[39m# n = x\u001b[39;00m\n\u001b[0;32m   1734\u001b[0m n \u001b[39m=\u001b[39m man \u001b[39m<<\u001b[39m exp\n",
      "\u001b[1;31mValueError\u001b[0m: gamma function pole"
     ]
    }
   ],
   "source": [
    "fun.simplify().doit()"
   ]
  },
  {
   "cell_type": "code",
   "execution_count": 6,
   "metadata": {},
   "outputs": [
    {
     "ename": "TypeError",
     "evalue": "'float' object cannot be interpreted as an integer",
     "output_type": "error",
     "traceback": [
      "\u001b[1;31m---------------------------------------------------------------------------\u001b[0m",
      "\u001b[1;31mTypeError\u001b[0m                                 Traceback (most recent call last)",
      "\u001b[1;32mc:\\Users\\hauke\\Google Drive\\Studium\\Master_sem3\\pi-shack-hartmann-sensor\\src\\dev\\ZernikeSympy.ipynb Cell 3\u001b[0m in \u001b[0;36m<cell line: 9>\u001b[1;34m()\u001b[0m\n\u001b[0;32m      <a href='vscode-notebook-cell:/c%3A/Users/hauke/Google%20Drive/Studium/Master_sem3/pi-shack-hartmann-sensor/src/dev/ZernikeSympy.ipynb#X12sZmlsZQ%3D%3D?line=5'>6</a>\u001b[0m l \u001b[39m=\u001b[39m lambdify(p,fun,\u001b[39m'\u001b[39m\u001b[39mnumpy\u001b[39m\u001b[39m'\u001b[39m)\n\u001b[0;32m      <a href='vscode-notebook-cell:/c%3A/Users/hauke/Google%20Drive/Studium/Master_sem3/pi-shack-hartmann-sensor/src/dev/ZernikeSympy.ipynb#X12sZmlsZQ%3D%3D?line=6'>7</a>\u001b[0m angles \u001b[39m=\u001b[39m np\u001b[39m.\u001b[39mlinspace(\u001b[39m0\u001b[39m,np\u001b[39m.\u001b[39mpi \u001b[39m*\u001b[39m\u001b[39m2\u001b[39m,\u001b[39m100\u001b[39m)\n\u001b[1;32m----> <a href='vscode-notebook-cell:/c%3A/Users/hauke/Google%20Drive/Studium/Master_sem3/pi-shack-hartmann-sensor/src/dev/ZernikeSympy.ipynb#X12sZmlsZQ%3D%3D?line=8'>9</a>\u001b[0m plt\u001b[39m.\u001b[39mplot(l(angles))\n",
      "File \u001b[1;32m<lambdifygenerated-3>:2\u001b[0m, in \u001b[0;36m_lambdifygenerated\u001b[1;34m(p)\u001b[0m\n\u001b[0;32m      1\u001b[0m \u001b[39mdef\u001b[39;00m \u001b[39m_lambdifygenerated\u001b[39m(p):\n\u001b[1;32m----> 2\u001b[0m     \u001b[39mreturn\u001b[39;00m (builtins\u001b[39m.\u001b[39msum((\u001b[39m-\u001b[39m\u001b[39m1\u001b[39m)\u001b[39m*\u001b[39m\u001b[39m*\u001b[39mk\u001b[39m*\u001b[39mp\u001b[39m*\u001b[39m\u001b[39m*\u001b[39m(\u001b[39m6\u001b[39m \u001b[39m-\u001b[39m \u001b[39m2\u001b[39m\u001b[39m*\u001b[39mk)\u001b[39m*\u001b[39mfactorial(\u001b[39m6\u001b[39m \u001b[39m-\u001b[39m k)\u001b[39m/\u001b[39m(factorial(k)\u001b[39m*\u001b[39mfactorial(\u001b[39m1\u001b[39m \u001b[39m-\u001b[39m k)\u001b[39m*\u001b[39mfactorial(\u001b[39m5\u001b[39m \u001b[39m-\u001b[39m k)) \u001b[39mfor\u001b[39;00m k \u001b[39min\u001b[39;00m \u001b[39mrange\u001b[39;49m(\u001b[39m0\u001b[39;49m, \u001b[39m1.0\u001b[39;49m\u001b[39m+\u001b[39;49m\u001b[39m1\u001b[39;49m)))\n",
      "\u001b[1;31mTypeError\u001b[0m: 'float' object cannot be interpreted as an integer"
     ]
    }
   ],
   "source": [
    "import numpy as np\n",
    "import matplotlib.pyplot as plt\n",
    "\n",
    "#p = Symbol(\"p\",positive=True,real=True)\n",
    "\n",
    "l = lambdify(p,fun,'numpy')\n",
    "angles = np.linspace(0,np.pi *2,100)\n",
    "\n",
    "plt.plot(l(angles))\n"
   ]
  },
  {
   "cell_type": "code",
   "execution_count": null,
   "metadata": {},
   "outputs": [],
   "source": [
    "Sum((-1)**k*factorial(6 - k)/(p**(2*k)*factorial(k)*factorial(1 - k)*factorial(5 - k)), (k, 0, 1.0))"
   ]
  },
  {
   "cell_type": "code",
   "execution_count": null,
   "metadata": {},
   "outputs": [],
   "source": [
    "from IPython.display import display\n",
    "\n",
    "\n",
    "\n",
    "a = Sum(factorial(k)*factorial(1-k) *factorial(3-k),(k,0,1))\n",
    "display(a)\n",
    "a.doit()"
   ]
  },
  {
   "cell_type": "code",
   "execution_count": null,
   "metadata": {},
   "outputs": [],
   "source": [
    "fun._repr_latex_()"
   ]
  },
  {
   "cell_type": "code",
   "execution_count": null,
   "metadata": {},
   "outputs": [],
   "source": [
    "fun.subs(((n,5),(m,1)))"
   ]
  },
  {
   "cell_type": "code",
   "execution_count": null,
   "metadata": {},
   "outputs": [],
   "source": [
    "numfun = lambdify([p,n,m],fun)"
   ]
  },
  {
   "cell_type": "code",
   "execution_count": null,
   "metadata": {},
   "outputs": [],
   "source": [
    "IndexedBase"
   ]
  },
  {
   "cell_type": "code",
   "execution_count": null,
   "metadata": {},
   "outputs": [],
   "source": [
    "import numpy as np\n",
    "r = np.linspace(0,1,100) \n",
    "angle = np.linspace(0,2*np.pi,50)\n",
    "R,Angles = np.meshgrid(r,angle)\n",
    "\n",
    "plt.imshow()\n"
   ]
  },
  {
   "cell_type": "code",
   "execution_count": null,
   "metadata": {},
   "outputs": [],
   "source": [
    "from sympy.abc import x, y, z\n",
    "from sympy.utilities.lambdify import lambdastr\n",
    "lambdastr(x, x**2)\n",
    "\n",
    "lambdastr((x,y,z), [z,y,x])\n"
   ]
  }
 ],
 "metadata": {
  "kernelspec": {
   "display_name": "base",
   "language": "python",
   "name": "python3"
  },
  "language_info": {
   "codemirror_mode": {
    "name": "ipython",
    "version": 3
   },
   "file_extension": ".py",
   "mimetype": "text/x-python",
   "name": "python",
   "nbconvert_exporter": "python",
   "pygments_lexer": "ipython3",
   "version": "3.8.13 (default, Oct 19 2022, 22:38:03) [MSC v.1916 64 bit (AMD64)]"
  },
  "orig_nbformat": 4,
  "vscode": {
   "interpreter": {
    "hash": "9cac56477898a36a64c298cfde0d2ab25b9950ccbdcbf9b69e97a0778afc7d8f"
   }
  }
 },
 "nbformat": 4,
 "nbformat_minor": 2
}
