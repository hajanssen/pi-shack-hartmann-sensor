{
 "cells": [
  {
   "cell_type": "code",
   "execution_count": 3,
   "metadata": {},
   "outputs": [
    {
     "data": {
      "text/latex": [
       "$\\displaystyle p^{6} \\sum_{k=0}^{1.0} \\frac{\\left(-1\\right)^{k} p^{- 2 k} \\left(6 - k\\right)!}{k! \\left(1 - k\\right)! \\left(5 - k\\right)!}$"
      ],
      "text/plain": [
       "p**6*Sum((-1)**k*factorial(6 - k)/(p**(2*k)*factorial(k)*factorial(1 - k)*factorial(5 - k)), (k, 0, 1.0))"
      ]
     },
     "execution_count": 3,
     "metadata": {},
     "output_type": "execute_result"
    }
   ],
   "source": [
    "from sympy.abc import n, m, k, p \n",
    "from sympy import Sum, factorial, oo, IndexedBase, Function, Symbol, lambdify, Idx, symbols, Integer, sin, cos\n",
    "from sympy.utilities.lambdify import implemented_function\n",
    "import sympy as smp\n",
    "from sympy.utilities.lambdify import implemented_function\n",
    "\n",
    "\n",
    "\n",
    "def Zernike(nVal,mVal):\n",
    "    n = Symbol(\"n\",integer=True,positive=True,real=True)\n",
    "    m = Symbol(\"m\",integer=True,positive=True,real=True)\n",
    "    phi = Symbol(\"m\",positive=True,real=True)\n",
    "\n",
    "    n = int(nVal)\n",
    "    m = int(mVal)\n",
    "    # if m%2 != 0: # is odd\n",
    "    #     m = -m \n",
    "\n",
    "    fractionAbove = (((-1)**k) * (factorial(n-k)))\n",
    "    fractionBelow = factorial(k) * factorial((n+m)//int(2) - k) * factorial((n-m)//2 - k)\n",
    "    Radial = Sum( ((p**(n-2*k)) * fractionAbove) / fractionBelow  ,(k,0,(n-m)/2))\n",
    "    if not n-m % 2 != 0: # is odd\n",
    "        print(f\" ungerade n:{n}m:{m} /{n-m}\")\n",
    "        Radial = smp.sin(m*phi)\n",
    "\n",
    "        pass\n",
    "    else: \n",
    "\n",
    "        pass\n",
    "    \n",
    "    #NumpyZernike = lambdify([p,nVal,mVal],Radial,'numpy')\n",
    "\n",
    "    return Radial #* sympy.cos(m*phi)# NumpyZernike, SymPyZernike \n",
    "\n",
    "from IPython.display import display\n",
    "\n",
    "# for nVal in range(10):\n",
    "#     for mVal in range(10):\n",
    "   \n",
    "#         if nVal >= mVal:\n",
    "#             print(f\"n:{nVal}, m:{mVal}\")\n",
    "#             fun = Zernike(nVal=nVal,mVal=mVal)\n",
    "#             display(fun)\n",
    "\n",
    "#dfun = fun.doit().simplify()\n",
    "#dfun = fun.doit() #.simplify()\n",
    "\n",
    "fun = Zernike(nVal=6,mVal=4)\n",
    "fun.simplify()\n",
    "#fun.simplify().doit()\n",
    "\n"
   ]
  },
  {
   "cell_type": "code",
   "execution_count": 5,
   "metadata": {},
   "outputs": [
    {
     "data": {
      "text/latex": [
       "$\\displaystyle p$"
      ],
      "text/plain": [
       "p"
      ]
     },
     "execution_count": 5,
     "metadata": {},
     "output_type": "execute_result"
    }
   ],
   "source": [
    "p"
   ]
  },
  {
   "cell_type": "code",
   "execution_count": 6,
   "metadata": {},
   "outputs": [
    {
     "ename": "TypeError",
     "evalue": "'float' object cannot be interpreted as an integer",
     "output_type": "error",
     "traceback": [
      "\u001b[1;31m---------------------------------------------------------------------------\u001b[0m",
      "\u001b[1;31mTypeError\u001b[0m                                 Traceback (most recent call last)",
      "\u001b[1;32mc:\\Users\\hauke\\Google Drive\\Studium\\Master_sem3\\pi-shack-hartmann-sensor\\src\\dev\\ZernikeSympy.ipynb Cell 3\u001b[0m in \u001b[0;36m<cell line: 9>\u001b[1;34m()\u001b[0m\n\u001b[0;32m      <a href='vscode-notebook-cell:/c%3A/Users/hauke/Google%20Drive/Studium/Master_sem3/pi-shack-hartmann-sensor/src/dev/ZernikeSympy.ipynb#X12sZmlsZQ%3D%3D?line=5'>6</a>\u001b[0m l \u001b[39m=\u001b[39m lambdify(p,fun,\u001b[39m'\u001b[39m\u001b[39mnumpy\u001b[39m\u001b[39m'\u001b[39m)\n\u001b[0;32m      <a href='vscode-notebook-cell:/c%3A/Users/hauke/Google%20Drive/Studium/Master_sem3/pi-shack-hartmann-sensor/src/dev/ZernikeSympy.ipynb#X12sZmlsZQ%3D%3D?line=6'>7</a>\u001b[0m angles \u001b[39m=\u001b[39m np\u001b[39m.\u001b[39mlinspace(\u001b[39m0\u001b[39m,np\u001b[39m.\u001b[39mpi \u001b[39m*\u001b[39m\u001b[39m2\u001b[39m,\u001b[39m100\u001b[39m)\n\u001b[1;32m----> <a href='vscode-notebook-cell:/c%3A/Users/hauke/Google%20Drive/Studium/Master_sem3/pi-shack-hartmann-sensor/src/dev/ZernikeSympy.ipynb#X12sZmlsZQ%3D%3D?line=8'>9</a>\u001b[0m plt\u001b[39m.\u001b[39mplot(l(angles))\n",
      "File \u001b[1;32m<lambdifygenerated-3>:2\u001b[0m, in \u001b[0;36m_lambdifygenerated\u001b[1;34m(p)\u001b[0m\n\u001b[0;32m      1\u001b[0m \u001b[39mdef\u001b[39;00m \u001b[39m_lambdifygenerated\u001b[39m(p):\n\u001b[1;32m----> 2\u001b[0m     \u001b[39mreturn\u001b[39;00m (builtins\u001b[39m.\u001b[39msum((\u001b[39m-\u001b[39m\u001b[39m1\u001b[39m)\u001b[39m*\u001b[39m\u001b[39m*\u001b[39mk\u001b[39m*\u001b[39mp\u001b[39m*\u001b[39m\u001b[39m*\u001b[39m(\u001b[39m6\u001b[39m \u001b[39m-\u001b[39m \u001b[39m2\u001b[39m\u001b[39m*\u001b[39mk)\u001b[39m*\u001b[39mfactorial(\u001b[39m6\u001b[39m \u001b[39m-\u001b[39m k)\u001b[39m/\u001b[39m(factorial(k)\u001b[39m*\u001b[39mfactorial(\u001b[39m1\u001b[39m \u001b[39m-\u001b[39m k)\u001b[39m*\u001b[39mfactorial(\u001b[39m5\u001b[39m \u001b[39m-\u001b[39m k)) \u001b[39mfor\u001b[39;00m k \u001b[39min\u001b[39;00m \u001b[39mrange\u001b[39;49m(\u001b[39m0\u001b[39;49m, \u001b[39m1.0\u001b[39;49m\u001b[39m+\u001b[39;49m\u001b[39m1\u001b[39;49m)))\n",
      "\u001b[1;31mTypeError\u001b[0m: 'float' object cannot be interpreted as an integer"
     ]
    }
   ],
   "source": [
    "import numpy as np\n",
    "import matplotlib.pyplot as plt\n",
    "\n",
    "#p = Symbol(\"p\",positive=True,real=True)\n",
    "\n",
    "l = lambdify(p,fun,'numpy')\n",
    "angles = np.linspace(0,np.pi *2,100)\n",
    "\n",
    "plt.plot(l(angles))\n"
   ]
  },
  {
   "cell_type": "code",
   "execution_count": null,
   "metadata": {},
   "outputs": [],
   "source": [
    "Sum((-1)**k*factorial(6 - k)/(p**(2*k)*factorial(k)*factorial(1 - k)*factorial(5 - k)), (k, 0, 1.0))"
   ]
  },
  {
   "cell_type": "code",
   "execution_count": null,
   "metadata": {},
   "outputs": [],
   "source": [
    "from IPython.display import display\n",
    "\n",
    "\n",
    "\n",
    "a = Sum(factorial(k)*factorial(1-k) *factorial(3-k),(k,0,1))\n",
    "display(a)\n",
    "a.doit()"
   ]
  },
  {
   "cell_type": "code",
   "execution_count": null,
   "metadata": {},
   "outputs": [],
   "source": [
    "fun._repr_latex_()"
   ]
  },
  {
   "cell_type": "code",
   "execution_count": null,
   "metadata": {},
   "outputs": [],
   "source": [
    "fun.subs(((n,5),(m,1)))"
   ]
  },
  {
   "cell_type": "code",
   "execution_count": null,
   "metadata": {},
   "outputs": [],
   "source": [
    "numfun = lambdify([p,n,m],fun)"
   ]
  },
  {
   "cell_type": "code",
   "execution_count": null,
   "metadata": {},
   "outputs": [],
   "source": [
    "IndexedBase"
   ]
  },
  {
   "cell_type": "code",
   "execution_count": null,
   "metadata": {},
   "outputs": [],
   "source": [
    "import numpy as np\n",
    "r = np.linspace(0,1,100) \n",
    "angle = np.linspace(0,2*np.pi,50)\n",
    "R,Angles = np.meshgrid(r,angle)\n",
    "\n",
    "plt.imshow()\n"
   ]
  },
  {
   "cell_type": "code",
   "execution_count": null,
   "metadata": {},
   "outputs": [],
   "source": [
    "from sympy.abc import x, y, z\n",
    "from sympy.utilities.lambdify import lambdastr\n",
    "lambdastr(x, x**2)\n",
    "\n",
    "lambdastr((x,y,z), [z,y,x])\n"
   ]
  }
 ],
 "metadata": {
  "kernelspec": {
   "display_name": "base",
   "language": "python",
   "name": "python3"
  },
  "language_info": {
   "codemirror_mode": {
    "name": "ipython",
    "version": 3
   },
   "file_extension": ".py",
   "mimetype": "text/x-python",
   "name": "python",
   "nbconvert_exporter": "python",
   "pygments_lexer": "ipython3",
   "version": "3.8.13"
  },
  "orig_nbformat": 4,
  "vscode": {
   "interpreter": {
    "hash": "9cac56477898a36a64c298cfde0d2ab25b9950ccbdcbf9b69e97a0778afc7d8f"
   }
  }
 },
 "nbformat": 4,
 "nbformat_minor": 2
}
